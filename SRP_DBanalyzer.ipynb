{
 "cells": [
  {
   "cell_type": "code",
   "execution_count": 1,
   "metadata": {},
   "outputs": [
    {
     "ename": "KeyboardInterrupt",
     "evalue": "",
     "output_type": "error",
     "traceback": [
      "\u001b[1;31m---------------------------------------------------------------------------\u001b[0m",
      "\u001b[1;31mKeyboardInterrupt\u001b[0m                         Traceback (most recent call last)",
      "\u001b[1;32m<ipython-input-1-b900b7613f48>\u001b[0m in \u001b[0;36m<module>\u001b[1;34m\u001b[0m\n\u001b[0;32m      8\u001b[0m \u001b[0mc\u001b[0m \u001b[1;33m=\u001b[0m \u001b[0mconn\u001b[0m\u001b[1;33m.\u001b[0m\u001b[0mcursor\u001b[0m\u001b[1;33m(\u001b[0m\u001b[1;33m)\u001b[0m\u001b[1;33m\u001b[0m\u001b[0m\n\u001b[0;32m      9\u001b[0m \u001b[0mc\u001b[0m\u001b[1;33m.\u001b[0m\u001b[0mexecute\u001b[0m\u001b[1;33m(\u001b[0m\u001b[1;34m'SELECT DISTINCT standard_inchi,target_sequence,standard_value FROM interactions'\u001b[0m\u001b[1;33m)\u001b[0m\u001b[1;33m\u001b[0m\u001b[0m\n\u001b[1;32m---> 10\u001b[1;33m \u001b[0md\u001b[0m \u001b[1;33m=\u001b[0m \u001b[0mc\u001b[0m\u001b[1;33m.\u001b[0m\u001b[0mfetchall\u001b[0m\u001b[1;33m(\u001b[0m\u001b[1;33m)\u001b[0m\u001b[1;33m\u001b[0m\u001b[0m\n\u001b[0m\u001b[0;32m     11\u001b[0m \u001b[0mconn\u001b[0m\u001b[1;33m.\u001b[0m\u001b[0mclose\u001b[0m\u001b[1;33m(\u001b[0m\u001b[1;33m)\u001b[0m\u001b[1;33m\u001b[0m\u001b[0m\n",
      "\u001b[1;31mKeyboardInterrupt\u001b[0m: "
     ]
    }
   ],
   "source": [
    "# Load testdatabase into memory, ignore duplicate rows\n",
    "# Import more data for better results\n",
    "import sqlite3\n",
    "import numpy as np\n",
    "import math\n",
    "from sklearn.model_selection import train_test_split\n",
    "conn = sqlite3.connect('database.sqlite3')\n",
    "c = conn.cursor()\n",
    "c.execute('SELECT DISTINCT standard_inchi,target_sequence,standard_value FROM interactions')\n",
    "d = c.fetchall()\n",
    "conn.close()"
   ]
  },
  {
   "cell_type": "code",
   "execution_count": 5,
   "metadata": {},
   "outputs": [
    {
     "name": "stdout",
     "output_type": "stream",
     "text": [
      "742742\n"
     ]
    }
   ],
   "source": [
    "print(len(d))"
   ]
  },
  {
   "cell_type": "code",
   "execution_count": 6,
   "metadata": {},
   "outputs": [],
   "source": [
    "dsilen=[[0] for x in range(len(d))]\n",
    "dtslen=[[0] for x in range(len(d))]\n",
    "i=0\n",
    "for row in d:\n",
    "    dsilen[i]=len(row[0])\n",
    "    dtslen[i]=len(row[1])\n",
    "    i += 1"
   ]
  },
  {
   "cell_type": "code",
   "execution_count": 9,
   "metadata": {},
   "outputs": [
    {
     "name": "stdout",
     "output_type": "stream",
     "text": [
      "(array([727433,  12248,   1806,    306,    482,    386,     70,      6,\n",
      "            1,      4]), array([  24. ,  351.1,  678.2, 1005.3, 1332.4, 1659.5, 1986.6, 2313.7,\n",
      "       2640.8, 2967.9, 3295. ]))\n"
     ]
    }
   ],
   "source": [
    "print(np.histogram(dsilen,10))"
   ]
  },
  {
   "cell_type": "code",
   "execution_count": 11,
   "metadata": {},
   "outputs": [
    {
     "name": "stdout",
     "output_type": "stream",
     "text": [
      "(array([557523, 164139,  10160,   7900,   1526,    917,    465,     68,\n",
      "            0,     44]), array([  19. ,  736.2, 1453.4, 2170.6, 2887.8, 3605. , 4322.2, 5039.4,\n",
      "       5756.6, 6473.8, 7191. ]))\n"
     ]
    }
   ],
   "source": [
    "print(np.histogram(dtslen,10))"
   ]
  },
  {
   "cell_type": "code",
   "execution_count": 2,
   "metadata": {},
   "outputs": [],
   "source": [
    "conn2 = sqlite3.connect('trunc_database05192019.sqlite3')\n",
    "c = conn2.cursor()\n",
    "c.execute('DROP TABLE IF EXISTS interactions')\n",
    "c.execute('CREATE TABLE IF NOT EXISTS interactions(standard_inchi,protein_sequence,standard_value)')\n",
    "\n",
    "for row in d:\n",
    "    if len(row[0])<352 and len(row[1])<1454:\n",
    "        c.execute('INSERT INTO interactions (standard_inchi,protein_sequence,standard_value) VALUES (?,?,?)',(row[0],row[1],row[2]))\n",
    "\n",
    "conn2.commit()\n",
    "conn2.close()"
   ]
  },
  {
   "cell_type": "code",
   "execution_count": null,
   "metadata": {},
   "outputs": [],
   "source": []
  }
 ],
 "metadata": {
  "kernelspec": {
   "display_name": "Python 3",
   "language": "python",
   "name": "python3"
  },
  "language_info": {
   "codemirror_mode": {
    "name": "ipython",
    "version": 3
   },
   "file_extension": ".py",
   "mimetype": "text/x-python",
   "name": "python",
   "nbconvert_exporter": "python",
   "pygments_lexer": "ipython3",
   "version": "3.6.6"
  }
 },
 "nbformat": 4,
 "nbformat_minor": 2
}
