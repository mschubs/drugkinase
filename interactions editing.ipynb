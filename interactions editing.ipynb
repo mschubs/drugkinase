{
 "cells": [
  {
   "cell_type": "code",
   "execution_count": 2,
   "metadata": {},
   "outputs": [],
   "source": [
    "import csv, sqlite3, math\n",
    "import numpy as np\n",
    "\n",
    "con = sqlite3.connect('database.sqlite3')\n",
    "cur = con.cursor()\n",
    "\n",
    "cur.execute(\"SELECT * FROM interactions;\")\n",
    "listdata = [[row[0],row[1],row[2],row[3],float(row[4])] for row in cur]\n",
    "count = 0\n",
    "db = []\n",
    "to_db = [0,0,0,0,0]\n",
    "for i in listdata:\n",
    "    count+=1\n",
    "    if i[4] >= 10000:\n",
    "        i[4] = 10000\n",
    "    if i[4] <= 0:\n",
    "        del(i)\n",
    "    else:\n",
    "        #to_db[0],to_db[1],to_db[2],to_db[3],to_db[4] = i[0],i[1],i[2],i[3],i[4]\n",
    "        db.append(i)\n",
    "        #cur.execute(\"INSERT INTO interactions (compound_id, standard_inchi, target_id, target_sequence, standard_value) VALUES (?, ?, ?, ?, ?);\", to_db)\n",
    "\n",
    "con.commit()\n",
    "con.close()"
   ]
  },
  {
   "cell_type": "code",
   "execution_count": 2,
   "metadata": {},
   "outputs": [
    {
     "name": "stdout",
     "output_type": "stream",
     "text": [
      "<class 'int'>\n"
     ]
    }
   ],
   "source": [
    "print(type(db[0][4]))"
   ]
  },
  {
   "cell_type": "code",
   "execution_count": 9,
   "metadata": {},
   "outputs": [
    {
     "name": "stdout",
     "output_type": "stream",
     "text": [
      "[     4     11  76228 109290 125090 148161 211615]\n",
      "[     -1000000           -10             0            10           100\n",
      "          1000         10000 1000000000000]\n"
     ]
    }
   ],
   "source": [
    "import sqlite3, math\n",
    "import numpy as np\n",
    "con = sqlite3.connect('database.sqlite3')\n",
    "cur = con.cursor()\n",
    "cur.execute(\"SELECT standard_value FROM interactions;\")\n",
    "listdata = [float(row[0]) for row in cur]\n",
    "counts, bin_edges = np.histogram(listdata, bins=[-1000000,-10,0,10,100,1000,10000,1000000000000])\n",
    "print(counts)\n",
    "print(bin_edges)"
   ]
  },
  {
   "cell_type": "code",
   "execution_count": 4,
   "metadata": {},
   "outputs": [
    {
     "name": "stdout",
     "output_type": "stream",
     "text": [
      "7191\n",
      "[ 43589 252519 197483  66095  50124  39562   4640   1251   4243   2100\n",
      "   5624    230    366     23   1140     27      6    919    137    513\n",
      "      2     57      0      1      0      0      0      0      0     51]\n",
      "[  19.          258.06666667  497.13333333  736.2         975.26666667\n",
      " 1214.33333333 1453.4        1692.46666667 1931.53333333 2170.6\n",
      " 2409.66666667 2648.73333333 2887.8        3126.86666667 3365.93333333\n",
      " 3605.         3844.06666667 4083.13333333 4322.2        4561.26666667\n",
      " 4800.33333333 5039.4        5278.46666667 5517.53333333 5756.6\n",
      " 5995.66666667 6234.73333333 6473.8        6712.86666667 6951.93333333\n",
      " 7191.        ]\n"
     ]
    }
   ],
   "source": [
    "listdata = [len(i[3]) for i in db]\n",
    "maximum = max(listdata)\n",
    "print(maximum)\n",
    "\n",
    "counts, bin_edges = np.histogram(listdata, bins=30)\n",
    "print(counts)\n",
    "print(bin_edges)"
   ]
  },
  {
   "cell_type": "code",
   "execution_count": 3,
   "metadata": {},
   "outputs": [
    {
     "name": "stdout",
     "output_type": "stream",
     "text": [
      "[245691 388006  24033   6154   2559   1416    781    447    263    152\n",
      "     85     72    192    138    168     70    334     60     41     17\n",
      "     12      3      1      1      1      0      0      1      3      1]\n",
      "[  24.          133.03333333  242.06666667  351.1         460.13333333\n",
      "  569.16666667  678.2         787.23333333  896.26666667 1005.3\n",
      " 1114.33333333 1223.36666667 1332.4        1441.43333333 1550.46666667\n",
      " 1659.5        1768.53333333 1877.56666667 1986.6        2095.63333333\n",
      " 2204.66666667 2313.7        2422.73333333 2531.76666667 2640.8\n",
      " 2749.83333333 2858.86666667 2967.9        3076.93333333 3185.96666667\n",
      " 3295.        ]\n"
     ]
    }
   ],
   "source": [
    "listdata = [len(i[1]) for i in db]\n",
    "counts, bin_edges = np.histogram(listdata, bins=30)\n",
    "print(counts)\n",
    "print(bin_edges)"
   ]
  },
  {
   "cell_type": "code",
   "execution_count": 4,
   "metadata": {},
   "outputs": [],
   "source": [
    "import math\n",
    "for i in db:\n",
    "    i[4] = math.log10(i[4]) + 10\n",
    "    if i[4] < 0:\n",
    "        print(i[4])"
   ]
  },
  {
   "cell_type": "code",
   "execution_count": 7,
   "metadata": {},
   "outputs": [
    {
     "name": "stdout",
     "output_type": "stream",
     "text": [
      "65379\n",
      "[18780  2773  2134  1068  1157  1063   784   737   785   564   547   703\n",
      "   480   491   698   482   421   549   404   380   466   315   311   315\n",
      "   428   327   290   400   348 27179]\n",
      "[3.30000000e-12 3.33333333e+02 6.66666667e+02 1.00000000e+03\n",
      " 1.33333333e+03 1.66666667e+03 2.00000000e+03 2.33333333e+03\n",
      " 2.66666667e+03 3.00000000e+03 3.33333333e+03 3.66666667e+03\n",
      " 4.00000000e+03 4.33333333e+03 4.66666667e+03 5.00000000e+03\n",
      " 5.33333333e+03 5.66666667e+03 6.00000000e+03 6.33333333e+03\n",
      " 6.66666667e+03 7.00000000e+03 7.33333333e+03 7.66666667e+03\n",
      " 8.00000000e+03 8.33333333e+03 8.66666667e+03 9.00000000e+03\n",
      " 9.33333333e+03 9.66666667e+03 1.00000000e+04]\n"
     ]
    }
   ],
   "source": [
    "import math\n",
    "import numpy as np\n",
    "short_db = []\n",
    "count=0\n",
    "for i in db:\n",
    "    if len(i[1]) < 300 and len(i[3]) < 300:\n",
    "        short_db.append(i)\n",
    "        \n",
    "print(len(short_db))\n",
    "\n",
    "listdata = [i[4] for i in short_db]\n",
    "counts, bin_edges = np.histogram(listdata, bins=30)\n",
    "print(counts)\n",
    "print(bin_edges)\n"
   ]
  },
  {
   "cell_type": "code",
   "execution_count": 8,
   "metadata": {},
   "outputs": [],
   "source": [
    "import sqlite3\n",
    "\n",
    "con = sqlite3.connect('testdatabase.sqlite3')\n",
    "cur = con.cursor()\n",
    "\n",
    "cur.execute(\"DROP  TABLE IF EXISTS small_interactions\")\n",
    "cur.execute(\"CREATE TABLE IF NOT EXISTS small_interactions (compound_id, standard_inchi, target_id, protein_sequence, standard_value);\")\n",
    "\n",
    "for i in short_db:\n",
    "    cur.execute(\"INSERT INTO small_interactions (compound_id, standard_inchi, target_id, protein_sequence, standard_value) VALUES (?, ?, ?, ?, ?);\", i)\n",
    "\n",
    "con.commit()\n",
    "con.close()"
   ]
  }
 ],
 "metadata": {
  "kernelspec": {
   "display_name": "Python 3",
   "language": "python",
   "name": "python3"
  },
  "language_info": {
   "codemirror_mode": {
    "name": "ipython",
    "version": 3
   },
   "file_extension": ".py",
   "mimetype": "text/x-python",
   "name": "python",
   "nbconvert_exporter": "python",
   "pygments_lexer": "ipython3",
   "version": "3.6.6"
  }
 },
 "nbformat": 4,
 "nbformat_minor": 2
}
