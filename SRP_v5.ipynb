{
 "cells": [
  {
   "cell_type": "code",
   "execution_count": 1,
   "metadata": {},
   "outputs": [],
   "source": [
    "import sqlite3\n",
    "import numpy as np\n",
    "import math\n",
    "from sklearn.model_selection import train_test_split\n",
    "conn = sqlite3.connect('trunc_database05192019.sqlite3')\n",
    "c = conn.cursor()\n",
    "c.execute('SELECT DISTINCT standard_inchi,protein_sequence,standard_value FROM interactions WHERE protein_sequence = (SELECT protein_sequence FROM interactions WHERE ROWID = 5000)')\n",
    "d1 = c.fetchall()\n",
    "c.execute('SELECT DISTINCT standard_inchi,protein_sequence,standard_value FROM interactions WHERE protein_sequence <> (SELECT protein_sequence FROM interactions WHERE ROWID = 5000)')\n",
    "d2 = c.fetchall()\n",
    "conn.close()"
   ]
  },
  {
   "cell_type": "code",
   "execution_count": 2,
   "metadata": {},
   "outputs": [],
   "source": [
    "din1=[[0] for x in range(len(d1))]\n",
    "dpr1=[[0] for x in range(len(d1))]\n",
    "dca1=[[0] for x in range(len(d1))]\n",
    "i=0\n",
    "for row in d1:\n",
    "    din1[i] = [ord(c) for c in d1[i][0]] # inchis\n",
    "    dpr1[i] = [ord(c) for c in d1[i][1]] # proteins\n",
    "    if d1[i][2]=='': dca1[i]=0\n",
    "    elif float(d1[i][2])>100: dca1[i] = 0 # categories - can adjust this threshold for better results\n",
    "    else: dca1[i] = 1   \n",
    "    i += 1"
   ]
  },
  {
   "cell_type": "code",
   "execution_count": 3,
   "metadata": {},
   "outputs": [],
   "source": [
    "din2=[[0] for x in range(len(d2))]\n",
    "dpr2=[[0] for x in range(len(d2))]\n",
    "dca2=[[0] for x in range(len(d2))]\n",
    "i=0\n",
    "for row in d2:\n",
    "    din2[i] = [ord(c) for c in d2[i][0]] # inchis\n",
    "    dpr2[i] = [ord(c) for c in d2[i][1]] # proteins\n",
    "    if d2[i][2]=='': dca2[i]=0\n",
    "    elif float(d2[i][2])>100: dca2[i] = 0 # categories - can adjust this threshold for better results\n",
    "    else: dca2[i] = 1   \n",
    "    i += 1"
   ]
  },
  {
   "cell_type": "code",
   "execution_count": 4,
   "metadata": {},
   "outputs": [],
   "source": [
    "maxlen=0\n",
    "for row in range(len(din1)):\n",
    "    maxlen = len(din1[row]) if len(din1[row])>maxlen else maxlen\n",
    "for row in range(len(din2)):\n",
    "    maxlen = len(din2[row]) if len(din2[row])>maxlen else maxlen\n",
    "for row in range(len(din1)):\n",
    "    din1[row].extend([0 for x in range(maxlen-len(din1[row]))])\n",
    "for row in range(len(din2)):\n",
    "    din2[row].extend([0 for x in range(maxlen-len(din2[row]))])\n",
    "maxlen=0\n",
    "for row in range(len(dpr1)):\n",
    "    maxlen = len(dpr1[row]) if len(dpr1[row])>maxlen else maxlen\n",
    "for row in range(len(dpr2)):\n",
    "    maxlen = len(dpr2[row]) if len(dpr2[row])>maxlen else maxlen\n",
    "for row in range(len(dpr1)):\n",
    "    dpr1[row].extend([0 for x in range(maxlen-len(dpr1[row]))])\n",
    "for row in range(len(dpr2)):\n",
    "    dpr2[row].extend([0 for x in range(maxlen-len(dpr2[row]))])\n",
    "    \n",
    "nin1 = np.array(din1).astype(float) # turn into Numpy Array for Keras - INICHIS (samples x asciis)\n",
    "npr1 = np.array(dpr1).astype(float) # turn into Numpy Array for Keras - PROTEINS (samples x asciis)\n",
    "nca1 = np.array(dca1).astype(float) # turn into Numpy Array for Keras - IC50s (samples x 0/1)\n",
    "\n",
    "nin2 = np.array(din2).astype(float) # turn into Numpy Array for Keras - INICHIS (samples x asciis)\n",
    "npr2 = np.array(dpr2).astype(float) # turn into Numpy Array for Keras - PROTEINS (samples x asciis)\n",
    "nca2 = np.array(dca2).astype(float) # turn into Numpy Array for Keras - IC50s (samples x 0/1)"
   ]
  },
  {
   "cell_type": "code",
   "execution_count": 6,
   "metadata": {},
   "outputs": [],
   "source": [
    "maxval = 0\n",
    "for row in range(len(nin1)):\n",
    "    maxval = max(nin1[row]) if max(nin1[row])>maxval else maxval\n",
    "for row in range(len(nin2)):\n",
    "    maxval = max(nin2[row]) if max(nin2[row])>maxval else maxval\n",
    "for row in range(len(nin1)):\n",
    "    nin1[row] = np.divide(nin1[row],float(maxval))\n",
    "for row in range(len(nin2)):\n",
    "    nin2[row] = np.divide(nin2[row],float(maxval))\n",
    "maxval = 0\n",
    "for row in range(len(npr1)):\n",
    "    maxval = max(npr1[row]) if max(npr1[row])>maxval else maxval\n",
    "for row in range(len(npr2)):\n",
    "    maxval = max(npr2[row]) if max(npr2[row])>maxval else maxval\n",
    "for row in range(len(npr1)):\n",
    "    npr1[row] = np.divide(npr1[row],float(maxval))\n",
    "for row in range(len(npr2)):\n",
    "    npr2[row] = np.divide(npr2[row],float(maxval))"
   ]
  },
  {
   "cell_type": "code",
   "execution_count": 5,
   "metadata": {},
   "outputs": [
    {
     "name": "stdout",
     "output_type": "stream",
     "text": [
      "599745\n",
      "599745\n"
     ]
    }
   ],
   "source": [
    "print (len(nin2))\n",
    "print (len(npr2))"
   ]
  },
  {
   "cell_type": "code",
   "execution_count": 7,
   "metadata": {},
   "outputs": [
    {
     "name": "stderr",
     "output_type": "stream",
     "text": [
      "Using TensorFlow backend.\n"
     ]
    }
   ],
   "source": [
    "from keras.models import Sequential\n",
    "from keras.layers import Dense\n",
    "from keras.layers import Dropout\n",
    "from keras.layers import Flatten\n",
    "from keras.layers.convolutional import Conv1D\n",
    "from keras.layers.convolutional import MaxPooling1D\n",
    "from keras.utils import np_utils\n",
    "from keras.utils.vis_utils import plot_model"
   ]
  },
  {
   "cell_type": "code",
   "execution_count": 8,
   "metadata": {},
   "outputs": [
    {
     "ename": "MemoryError",
     "evalue": "",
     "output_type": "error",
     "traceback": [
      "\u001b[1;31m---------------------------------------------------------------------------\u001b[0m",
      "\u001b[1;31mMemoryError\u001b[0m                               Traceback (most recent call last)",
      "\u001b[1;32m<ipython-input-8-f54df0e37591>\u001b[0m in \u001b[0;36m<module>\u001b[1;34m\u001b[0m\n\u001b[0;32m      1\u001b[0m \u001b[1;33m\u001b[0m\u001b[0m\n\u001b[0;32m      2\u001b[0m \u001b[0mX_test\u001b[0m \u001b[1;33m=\u001b[0m \u001b[0mnp\u001b[0m\u001b[1;33m.\u001b[0m\u001b[0mconcatenate\u001b[0m\u001b[1;33m(\u001b[0m\u001b[1;33m(\u001b[0m\u001b[0mnin1\u001b[0m\u001b[1;33m,\u001b[0m\u001b[0mnpr1\u001b[0m\u001b[1;33m)\u001b[0m\u001b[1;33m,\u001b[0m\u001b[0maxis\u001b[0m\u001b[1;33m=\u001b[0m\u001b[1;36m1\u001b[0m\u001b[1;33m)\u001b[0m\u001b[1;33m\u001b[0m\u001b[0m\n\u001b[1;32m----> 3\u001b[1;33m \u001b[0mX_train\u001b[0m \u001b[1;33m=\u001b[0m \u001b[0mnp\u001b[0m\u001b[1;33m.\u001b[0m\u001b[0mconcatenate\u001b[0m\u001b[1;33m(\u001b[0m\u001b[1;33m(\u001b[0m\u001b[0mnin2\u001b[0m\u001b[1;33m,\u001b[0m\u001b[0mnpr2\u001b[0m\u001b[1;33m)\u001b[0m\u001b[1;33m,\u001b[0m\u001b[0maxis\u001b[0m\u001b[1;33m=\u001b[0m\u001b[1;36m1\u001b[0m\u001b[1;33m)\u001b[0m\u001b[1;33m\u001b[0m\u001b[0m\n\u001b[0m\u001b[0;32m      4\u001b[0m \u001b[0my_test\u001b[0m \u001b[1;33m=\u001b[0m \u001b[0mnca1\u001b[0m\u001b[1;33m\u001b[0m\u001b[0m\n\u001b[0;32m      5\u001b[0m \u001b[0my_train\u001b[0m \u001b[1;33m=\u001b[0m \u001b[0mnca2\u001b[0m\u001b[1;33m\u001b[0m\u001b[0m\n",
      "\u001b[1;31mMemoryError\u001b[0m: "
     ]
    }
   ],
   "source": [
    "\n",
    "X_test = np.concatenate((nin1,npr1),axis=1)\n",
    "X_train = np.concatenate((nin2,npr2),axis=1)\n",
    "y_test = nca1\n",
    "y_train = nca2\n",
    "\n",
    "#X = np.concatenate((nin2,npr2),axis=1)\n",
    "#X_train, X_test, y_train, y_test = train_test_split(X, nca2, test_size=0.2, random_state=61)\n",
    "X_train = X_train.reshape(X_train.shape[0],X_train.shape[1],1)\n",
    "X_test = X_test.reshape(X_test.shape[0],X_test.shape[1],1)\n",
    "# one hot encode outputs - needed for Keras optimizer\n",
    "y_train = np_utils.to_categorical(y_train)\n",
    "y_test = np_utils.to_categorical(y_test)\n",
    "num_classes = y_test.shape[1]"
   ]
  },
  {
   "cell_type": "code",
   "execution_count": 13,
   "metadata": {},
   "outputs": [
    {
     "name": "stdout",
     "output_type": "stream",
     "text": [
      "<class 'numpy.ndarray'>\n",
      "(599745, 351)\n",
      "(599745, 1453)\n"
     ]
    }
   ],
   "source": [
    "\n",
    "print(type(nin2))\n",
    "print(nin2.shape)\n",
    "print(npr2.shape)\n"
   ]
  },
  {
   "cell_type": "code",
   "execution_count": null,
   "metadata": {},
   "outputs": [],
   "source": []
  }
 ],
 "metadata": {
  "kernelspec": {
   "display_name": "Python 3",
   "language": "python",
   "name": "python3"
  },
  "language_info": {
   "codemirror_mode": {
    "name": "ipython",
    "version": 3
   },
   "file_extension": ".py",
   "mimetype": "text/x-python",
   "name": "python",
   "nbconvert_exporter": "python",
   "pygments_lexer": "ipython3",
   "version": "3.6.6"
  }
 },
 "nbformat": 4,
 "nbformat_minor": 2
}
