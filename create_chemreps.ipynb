{
 "cells": [
  {
   "cell_type": "code",
   "execution_count": null,
   "metadata": {},
   "outputs": [],
   "source": [
    "import sqlite3, csv\n",
    "\n",
    "con = sqlite3.connect('chemreps.sqlite3')\n",
    "cur = con.cursor()\n",
    "cur.execute(\"DROP TABLE IF EXISTS structures\")\n",
    "cur.execute(\"CREATE TABLE IF NOT EXISTS structures(chembl_id, canonical_smiles, standard_inchi, standard_inchi_key)\")\n",
    "'''\n",
    "with open('chembl_21_chemreps.txt', 'rb') as input_file:\n",
    "    reader = csv.reader(input_file, delimiter=\"\\t\")\n",
    "    data = [row for row in reader]\n",
    "'''\n",
    "with open('chembl_21_chemreps.txt','r') as fin: # `with` statement available in 2.5+\n",
    "    # csv.DictReader uses first line in file for column headings by default\n",
    "    dr = csv.DictReader(fin, delimiter=\"\\t\") # comma is default delimiter\n",
    "    count = 0\n",
    "    for i in dr:\n",
    "        count+=1\n",
    "        to_db = (i['chembl_id'], i['canonical_smiles'], i['standard_inchi'], i['standard_inchi_key'])\n",
    "        cur.execute(\"INSERT INTO structures (chembl_id, canonical_smiles, standard_inchi, standard_inchi_key) VALUES (?, ?, ?, ?);\", to_db)\n",
    "        print(to_db)\n",
    "\n",
    "con.commit()\n",
    "con.close()"
   ]
  },
  {
   "cell_type": "code",
   "execution_count": null,
   "metadata": {},
   "outputs": [],
   "source": []
  }
 ],
 "metadata": {
  "kernelspec": {
   "display_name": "Python 3",
   "language": "python",
   "name": "python3"
  },
  "language_info": {
   "codemirror_mode": {
    "name": "ipython",
    "version": 3
   },
   "file_extension": ".py",
   "mimetype": "text/x-python",
   "name": "python",
   "nbconvert_exporter": "python",
   "pygments_lexer": "ipython3",
   "version": "3.6.6"
  }
 },
 "nbformat": 4,
 "nbformat_minor": 2
}
