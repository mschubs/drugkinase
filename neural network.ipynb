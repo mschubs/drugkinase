{
 "cells": [
  {
   "cell_type": "code",
   "execution_count": 1,
   "metadata": {},
   "outputs": [],
   "source": [
    "# Load testdatabase into memory, ignore duplicate rows\n",
    "# Import more data for better results\n",
    "import sqlite3\n",
    "import numpy as np\n",
    "import math\n",
    "from sklearn.model_selection import train_test_split\n",
    "conn = sqlite3.connect('testdatabase.sqlite3')\n",
    "c = conn.cursor()\n",
    "c.execute('SELECT DISTINCT standard_inchi,protein_sequence,standard_value FROM small_interactions')\n",
    "d = c.fetchall()\n",
    "conn.close()"
   ]
  },
  {
   "cell_type": "code",
   "execution_count": 2,
   "metadata": {},
   "outputs": [
    {
     "name": "stdout",
     "output_type": "stream",
     "text": [
      "39040\n",
      "20948\n"
     ]
    }
   ],
   "source": [
    "# Convert inchi and protein sequence into ASCII, convert IC50 into binary True/False \n",
    "din=[[0] for x in range(len(d))]\n",
    "dpr=[[0] for x in range(len(d))]\n",
    "dca=[[0] for x in range(len(d))]\n",
    "i=0\n",
    "for row in d:\n",
    "    din[i] = [ord(c) for c in d[i][0]] # inchis\n",
    "    dpr[i] = [ord(c) for c in d[i][1]] # proteins\n",
    "    dca[i] = 0 if d[i][2]>800 else 1   # categories - can adjust this threshold for better results\n",
    "    i += 1\n",
    "count1 = 0   \n",
    "count0 = 0\n",
    "for i in dca:\n",
    "    if i == 1:\n",
    "        count1+=1\n",
    "    else:\n",
    "        count0+=1\n",
    "print (count0)\n",
    "print (count1)"
   ]
  },
  {
   "cell_type": "code",
   "execution_count": 3,
   "metadata": {},
   "outputs": [],
   "source": [
    "# Pad with zeros to max length of Inchis and Proteins\n",
    "# Since we concatenate the two later, need max length overall to pad so every conc row has same length\n",
    "maxlen=0\n",
    "for row in range(len(din)):\n",
    "    maxlen = len(din[row]) if len(din[row])>maxlen else maxlen\n",
    "    maxlen = len(dpr[row]) if len(dpr[row])>maxlen else maxlen # delete this if not conc later\n",
    "for row in range(len(din)):\n",
    "    din[row].extend([0 for x in range(maxlen-len(din[row]))])  \n",
    "    dpr[row].extend([0 for x in range(maxlen-len(dpr[row]))])  # delete this if not conc later\n",
    "#maxlen=0\n",
    "#for row in range(len(dpr)):\n",
    "#    maxlen = len(dpr[row]) if len(dpr[row])>maxlen else maxlen\n",
    "#for row in range(len(dpr)):\n",
    "#    dpr[row].extend([0 for x in range(maxlen-len(dpr[row]))])\n",
    "\n",
    "nin = np.array(din).astype(float) # turn into Numpy Array for Keras - INICHIS (samples x asciis)\n",
    "npr = np.array(dpr).astype(float) # turn into Numpy Array for Keras - PROTEINS (samples x asciis)\n",
    "nca = np.array(dca).astype(float) # turn into Numpy Array for Keras - IC50s (samples x 0/1)"
   ]
  },
  {
   "cell_type": "code",
   "execution_count": 4,
   "metadata": {},
   "outputs": [],
   "source": [
    "# Scale ASCII int to float(0..1) \n",
    "maxval = 0\n",
    "for row in range(len(nin)):\n",
    "    maxval = max(nin[row]) if max(nin[row])>maxval else maxval\n",
    "for row in range(len(nin)):\n",
    "    nin[row] = np.divide(nin[row],float(maxval))\n",
    "maxval = 0\n",
    "for row in range(len(npr)):\n",
    "    maxval = max(npr[row]) if max(npr[row])>maxval else maxval\n",
    "for row in range(len(npr)):\n",
    "    npr[row] = np.divide(npr[row],float(maxval))"
   ]
  },
  {
   "cell_type": "code",
   "execution_count": 5,
   "metadata": {},
   "outputs": [
    {
     "name": "stderr",
     "output_type": "stream",
     "text": [
      "Using TensorFlow backend.\n"
     ]
    }
   ],
   "source": [
    "# Import Keras\n",
    "from keras.models import Sequential\n",
    "from keras.layers import Dense\n",
    "from keras.layers import Dropout\n",
    "from keras.layers import Flatten\n",
    "from keras.layers.convolutional import Conv1D\n",
    "from keras.layers.convolutional import MaxPooling1D\n",
    "from keras.utils import np_utils"
   ]
  },
  {
   "cell_type": "code",
   "execution_count": 6,
   "metadata": {
    "scrolled": true
   },
   "outputs": [],
   "source": [
    "# Create Train and Test inputs for Keras\n",
    "# Concatenate Inchis and Proteins as a first try\n",
    "X = np.concatenate((nin,npr),axis=1)\n",
    "X_train, X_test, y_train, y_test = train_test_split(X, nca, test_size=0.2, random_state=61)\n",
    "X_train = X_train.reshape(X_train.shape[0],X_train.shape[1],1)\n",
    "X_test = X_test.reshape(X_test.shape[0],X_test.shape[1],1)\n",
    "# one hot encode outputs - needed for Keras optimizer\n",
    "y_train = np_utils.to_categorical(y_train)\n",
    "y_test = np_utils.to_categorical(y_test)\n",
    "num_classes = y_test.shape[1]"
   ]
  },
  {
   "cell_type": "code",
   "execution_count": 7,
   "metadata": {},
   "outputs": [],
   "source": [
    "# Build CNN with \n",
    "# 2x (1D Conv layer + MaxPooling)\n",
    "# 2x Dense\n",
    "# Can adjust:\n",
    "# number of Conv1D layers\n",
    "# number of Conv1D features (default=32, 16), size of Kernel (default=8,4)\n",
    "# size of MaxPooling1D (default=2,2)\n",
    "# number and size of Dense layers\n",
    "\n",
    "model = Sequential()\n",
    "model.add(Conv1D(1, (2), input_shape=(X_train.shape[1],1), activation='relu'))\n",
    "model.add(MaxPooling1D(pool_size=(2)))\n",
    "#model.add(Conv1D(16, (4), activation='relu'))\n",
    "#model.add(MaxPooling1D(pool_size=(2)))\n",
    "model.add(Dropout(0.2))\n",
    "model.add(Flatten())\n",
    "model.add(Dense(2, activation='relu'))\n",
    "#model.add(Dense(50, activation='relu'))\n",
    "model.add(Dense(num_classes, activation='softmax'))\n",
    "# Compile model\n",
    "model.compile(loss='categorical_crossentropy', optimizer='adam', metrics=['accuracy'])"
   ]
  },
  {
   "cell_type": "code",
   "execution_count": 8,
   "metadata": {
    "scrolled": true
   },
   "outputs": [
    {
     "name": "stdout",
     "output_type": "stream",
     "text": [
      "Train on 47990 samples, validate on 11998 samples\n",
      "Epoch 1/3\n",
      "47990/47990 [==============================] - 4s 75us/step - loss: 0.6506 - acc: 0.6728 - val_loss: 0.6098 - val_acc: 0.7055\n",
      "Epoch 2/3\n",
      "47990/47990 [==============================] - 3s 70us/step - loss: 0.5988 - acc: 0.7076 - val_loss: 0.5856 - val_acc: 0.7152\n",
      "Epoch 3/3\n",
      "47990/47990 [==============================] - 3s 70us/step - loss: 0.5855 - acc: 0.7119 - val_loss: 0.5777 - val_acc: 0.7216\n"
     ]
    },
    {
     "data": {
      "text/plain": [
       "<keras.callbacks.History at 0x2561736dcf8>"
      ]
     },
     "execution_count": 8,
     "metadata": {},
     "output_type": "execute_result"
    }
   ],
   "source": [
    "batch_size = 128\n",
    "epochs = 3\n",
    "model.fit(X_train, y_train,\n",
    "          batch_size=batch_size,\n",
    "          epochs=epochs,\n",
    "          verbose=1,\n",
    "          validation_data=(X_test, y_test))"
   ]
  },
  {
   "cell_type": "code",
   "execution_count": 9,
   "metadata": {
    "scrolled": true
   },
   "outputs": [
    {
     "name": "stdout",
     "output_type": "stream",
     "text": [
      "_________________________________________________________________\n",
      "Layer (type)                 Output Shape              Param #   \n",
      "=================================================================\n",
      "conv1d_1 (Conv1D)            (None, 597, 1)            3         \n",
      "_________________________________________________________________\n",
      "max_pooling1d_1 (MaxPooling1 (None, 298, 1)            0         \n",
      "_________________________________________________________________\n",
      "dropout_1 (Dropout)          (None, 298, 1)            0         \n",
      "_________________________________________________________________\n",
      "flatten_1 (Flatten)          (None, 298)               0         \n",
      "_________________________________________________________________\n",
      "dense_1 (Dense)              (None, 2)                 598       \n",
      "_________________________________________________________________\n",
      "dense_2 (Dense)              (None, 2)                 6         \n",
      "=================================================================\n",
      "Total params: 607\n",
      "Trainable params: 607\n",
      "Non-trainable params: 0\n",
      "_________________________________________________________________\n",
      "None\n"
     ]
    }
   ],
   "source": [
    "print(model.summary())"
   ]
  },
  {
   "cell_type": "code",
   "execution_count": null,
   "metadata": {},
   "outputs": [],
   "source": []
  }
 ],
 "metadata": {
  "kernelspec": {
   "display_name": "Python 3",
   "language": "python",
   "name": "python3"
  },
  "language_info": {
   "codemirror_mode": {
    "name": "ipython",
    "version": 3
   },
   "file_extension": ".py",
   "mimetype": "text/x-python",
   "name": "python",
   "nbconvert_exporter": "python",
   "pygments_lexer": "ipython3",
   "version": "3.6.6"
  }
 },
 "nbformat": 4,
 "nbformat_minor": 2
}
