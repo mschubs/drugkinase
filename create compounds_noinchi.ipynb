{
 "cells": [
  {
   "cell_type": "code",
   "execution_count": 1,
   "metadata": {},
   "outputs": [],
   "source": [
    "import sqlite3\n",
    "\n",
    "con = sqlite3.connect('database.sqlite3')\n",
    "cur = con.cursor()\n",
    "cur.execute(\"DROP TABLE IF EXISTS compounds_noinchi\")\n",
    "cur.execute(\"CREATE TABLE IF NOT EXISTS compounds_noinchi (compound_id, compound_name, standard_inchi_key);\")\n",
    "\n",
    "cur.execute(\"SELECT DISTINCT compound_id, compound_name, standard_inchi_key FROM t WHERE compound_id != '';\")\n",
    "to_db = cur.fetchall()\n",
    "cur.executemany(\"INSERT INTO compounds_noinchi (compound_id, compound_name, standard_inchi_key) VALUES (?, ?, ?);\", to_db)\n",
    "\n",
    "con.commit()\n",
    "con.close()"
   ]
  },
  {
   "cell_type": "code",
   "execution_count": null,
   "metadata": {},
   "outputs": [],
   "source": []
  }
 ],
 "metadata": {
  "kernelspec": {
   "display_name": "Python 3",
   "language": "python",
   "name": "python3"
  },
  "language_info": {
   "codemirror_mode": {
    "name": "ipython",
    "version": 3
   },
   "file_extension": ".py",
   "mimetype": "text/x-python",
   "name": "python",
   "nbconvert_exporter": "python",
   "pygments_lexer": "ipython3",
   "version": "3.6.6"
  }
 },
 "nbformat": 4,
 "nbformat_minor": 2
}
